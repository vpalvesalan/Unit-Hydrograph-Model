{
 "cells": [
  {
   "cell_type": "markdown",
   "metadata": {},
   "source": [
    "# Data Prepocessing"
   ]
  },
  {
   "cell_type": "markdown",
   "metadata": {},
   "source": [
    "The following steps are taken to preprocess the data.\n",
    "\n",
    "- **1. Shapefiles**\n",
    "    - Load shapefiles (stream gages, precipitation stations, boundaries).\n",
    "    - Clean, simplify, and reproject shapefiles.\n",
    "    - Clip and mask data based on region of interest.\n",
    "    - Create Thiessen Polygons for precipitation stations for taking into account the spatial distibution of rain.\n",
    "    - Extract relevant features (e.g., drainage area, station location).\n",
    "\n",
    "- **2. Raster Data**\n",
    "    - Load raster data (elevation, land cover).\n",
    "    - Resample and align raster data layers.\n",
    "    - Clip and mask data based on region of interest.\n",
    "    - Extract key features (e.g., elevation, impervious surface).\n",
    "    - Delineate watershed boundaries and extract watershed geomorphological characteristics\n",
    "    - Normalize raster values.\n",
    "\n",
    "- **3. Tabular Data**\n",
    "    - Load time-series data (streamflow, precipitation).\n",
    "    - Handle missing values and fill gaps.\n",
    "    - Standardize time formats and indices.\n",
    "    - Identify and remove outliers.\n",
    "    - Resample and aggregate data to a uniform time step.\n",
    "    - Create new features (e.g., moving averages).\n",
    "\n",
    "- **4. Data Integration**\n",
    "    - Spatially join shapefiles with raster and tabular data.\n",
    "    - Merge time-series data based on time and location.\n",
    "    - Aggregate raster features for each station or gage.\n",
    "\n",
    "- **5. Selection of Storm Events**\n",
    "\n",
    "- **6. Clark's parameter optmization**\n",
    "    - Optmize Clark's parameters for the selected events\n",
    "    - Spatially join the optmized parameters with shapefile data.\n",
    "\n",
    "- **5. Machine Learning Preparation**\n",
    "    - Scale and normalize features.\n",
    "    - Split dataset into training and testing sets.\n",
    "    - Encode categorical features.\n",
    "    - Select most relevant features for training.\n"
   ]
  },
  {
   "cell_type": "code",
   "execution_count": 84,
   "metadata": {},
   "outputs": [],
   "source": [
    "# Import modules\n",
    "from pathlib import Path\n",
    "import time\n",
    "import sys\n",
    "import geopandas as gpd\n",
    "from plotnine import *\n",
    "import warnings\n",
    "from IPython.display import display, HTML, Markdown\n",
    "from dotenv import load_dotenv\n",
    "import os\n",
    "import requests\n",
    "import pandas as pd"
   ]
  },
  {
   "cell_type": "code",
   "execution_count": 32,
   "metadata": {},
   "outputs": [],
   "source": [
    "# File paths\n",
    "project_base_path = Path.cwd().parent.parent"
   ]
  },
  {
   "cell_type": "code",
   "execution_count": 33,
   "metadata": {},
   "outputs": [],
   "source": [
    "# Add 'src' to system path\n",
    "sys.path.append(str(project_base_path / 'src'))\n",
    "\n",
    "# Ignore warnings\n",
    "warnings.filterwarnings('ignore')"
   ]
  },
  {
   "cell_type": "code",
   "execution_count": 34,
   "metadata": {},
   "outputs": [],
   "source": [
    "# Load tokens\n",
    "\n",
    "load_dotenv(project_base_path / '.env')\n",
    "\n",
    "NOAA_API_TOKEN = os.getenv('NOAA_API_TOKEN')\n"
   ]
  },
  {
   "cell_type": "markdown",
   "metadata": {},
   "source": [
    "## 1. Shapefiles"
   ]
  },
  {
   "cell_type": "markdown",
   "metadata": {},
   "source": [
    "### 1.1 Load shapefiles"
   ]
  },
  {
   "cell_type": "code",
   "execution_count": 49,
   "metadata": {},
   "outputs": [],
   "source": [
    "# File paths\n",
    "shapefiles_base_path = project_base_path / 'data'/ 'geo'/ 'shp'\n",
    "\n",
    "dam_location_path = shapefiles_base_path / 'dams_location' / 'Dams.shp'\n",
    "\n",
    "precip_stations_path = shapefiles_base_path / 'precipitation_stations' / 'precip_15.kmz'\n",
    "streamgage_stations_path = shapefiles_base_path / 'streamgage_stations' / 'realstx.shp'\n",
    "\n",
    "us_county_path = shapefiles_base_path / 'us_county' / 'tl_2024_us_county.shp'\n",
    "us_state_path =  shapefiles_base_path / 'us_state' / 'tl_2024_us_state.shp'\n",
    "\n",
    "world_utm_zones_path = shapefiles_base_path.parent / 'json' / 'World_UTM_Grid.geojson'\n",
    "\n",
    "upper_hudson_basin_path = shapefiles_base_path / 'upper_hudson_basin' / 'upper_hudson_basin.shp'\n",
    "upper_hudson_basin_1km_buffer_path = shapefiles_base_path / 'upper_hudson_basin_1km_buffer' / 'upper_hudson_basin_1km_buffer.shp'\n",
    "upper_hudson_basin_5km_buffer_path = shapefiles_base_path / 'upper_hudson_basin_5km_buffer' / 'upper_hudson_basin_5km_buffer.shp'\n",
    "upper_hudson_basin_10km_buffer_path = shapefiles_base_path / 'upper_hudson_basin_10km_buffer' / 'upper_hudson_basin_10km_buffer.shp'\n",
    "upper_hudson_basin_30km_buffer_path = shapefiles_base_path / 'upper_hudson_basin_30km_buffer' / 'upper_hudson_basin_30km_buffer.shp'"
   ]
  },
  {
   "cell_type": "code",
   "execution_count": 51,
   "metadata": {},
   "outputs": [
    {
     "name": "stdout",
     "output_type": "stream",
     "text": [
      "Shapefiles read successfully. Time elapsed: 9.62 seconds\n"
     ]
    }
   ],
   "source": [
    "# Read shapefiles\n",
    "try:\n",
    "    start_time = time.time()\n",
    "\n",
    "    precip_stations = gpd.read_file(precip_stations_path)\n",
    "    streamgage_stations = gpd.read_file(streamgage_stations_path)\n",
    "\n",
    "    dam_location = gpd.read_file(dam_location_path)\n",
    "\n",
    "    us_county = gpd.read_file(us_county_path)\n",
    "    us_state = gpd.read_file(us_state_path)\n",
    "\n",
    "    world_utm_zones = gpd.read_file(world_utm_zones_path)\n",
    "\n",
    "    upper_hudson_basin = gpd.read_file(upper_hudson_basin_path)\n",
    "    upper_hudson_basin_1km_buffer = gpd.read_file(upper_hudson_basin_1km_buffer_path)\n",
    "    upper_hudson_basin_5km_buffer = gpd.read_file(upper_hudson_basin_5km_buffer_path)\n",
    "    upper_hudson_basin_10km_buffer = gpd.read_file(upper_hudson_basin_10km_buffer_path)\n",
    "    upper_hudson_basin_30km_buffer = gpd.read_file(upper_hudson_basin_30km_buffer_path)\n",
    "\n",
    "    end_time = time.time()\n",
    "\n",
    "    print('Shapefiles read successfully. Time elapsed:', round(end_time - start_time, 2), 'seconds')\n",
    "except Exception as err:\n",
    "    print('Error reading shapefiles:', err)"
   ]
  },
  {
   "cell_type": "markdown",
   "metadata": {},
   "source": [
    "#### 1.2. Cleaning and Reprojection\n",
    "##### 1.2.1 Cleaning\n",
    "- **Precipitation Stations**\n",
    "\n",
    "The Precipitation Station location covers the entire united states, is in kmz format and the ID station is encoded in HTML code, and has other irrelevant attributes. The following steps will be taken to clean the file:\n",
    "\n",
    "- 1. Clip the data to have precipitation only in area of interest.\n",
    "- 2. Decode the HTML code to extract the station ID and elevation.\n",
    "- 3. Drop irrelevant attributes.\n",
    "\n",
    "    **1. Clip the data**\n",
    "\n",
    "    For the mask, we will use the study region + 30km buffer to make ensure that none of possible precipitation station is left outside. We will define later which station to use. \n"
   ]
  },
  {
   "cell_type": "code",
   "execution_count": 53,
   "metadata": {},
   "outputs": [],
   "source": [
    "# Clip the data\n",
    "precip_stations_clipped = gpd.clip(precip_stations.to_crs(upper_hudson_basin_30km_buffer.crs), upper_hudson_basin_30km_buffer)\n",
    "\n",
    "\n"
   ]
  },
  {
   "cell_type": "code",
   "execution_count": 85,
   "metadata": {},
   "outputs": [
    {
     "name": "stdout",
     "output_type": "stream",
     "text": [
      "<class 'geopandas.geodataframe.GeoDataFrame'>\n",
      "Index: 70 entries, 30 to 86\n",
      "Data columns (total 14 columns):\n",
      " #   Column        Non-Null Count  Dtype         \n",
      "---  ------        --------------  -----         \n",
      " 0   id            70 non-null     object        \n",
      " 1   Name          70 non-null     object        \n",
      " 2   description   70 non-null     object        \n",
      " 3   timestamp     0 non-null      datetime64[ms]\n",
      " 4   begin         0 non-null      datetime64[ms]\n",
      " 5   end           0 non-null      datetime64[ms]\n",
      " 6   altitudeMode  0 non-null      object        \n",
      " 7   tessellate    70 non-null     int32         \n",
      " 8   extrude       70 non-null     int32         \n",
      " 9   visibility    70 non-null     int32         \n",
      " 10  drawOrder     0 non-null      float64       \n",
      " 11  icon          0 non-null      object        \n",
      " 12  geometry      70 non-null     geometry      \n",
      " 13  layer         70 non-null     object        \n",
      "dtypes: datetime64[ms](3), float64(1), geometry(1), int32(3), object(6)\n",
      "memory usage: 7.4+ KB\n"
     ]
    }
   ],
   "source": [
    "precip_stations_clipped.info()"
   ]
  },
  {
   "cell_type": "code",
   "execution_count": 106,
   "metadata": {},
   "outputs": [],
   "source": [
    "geom_merged = pd.concat(\n",
    "    [\n",
    "        #precip_stations_clipped[['geometry']].assign(LAYER='Preciptation Station'),\n",
    "        upper_hudson_basin.to_crs(precip_stations_clipped.crs)[['geometry']].assign(LAYER='Upper Hudson'),\n",
    "        upper_hudson_basin_10km_buffer[['geometry']].assign(LAYER='10km buffer'),\n",
    "        upper_hudson_basin_30km_buffer[['geometry']].assign(LAYER='30km buffer')\n",
    "    ]\n",
    ")\n",
    "\n",
    "precip_station_map2 = (\n",
    "    ggplot(geom_merged)\n",
    "    + geom_map(\n",
    "        mapping=aes(geometry='geometry', color = 'LAYER'),\n",
    "        fill = None\n",
    "    )\n",
    "    + geom_map(\n",
    "        data = precip_stations_clipped[['geometry']].assign(LAYER='Preciptation Station'),\n",
    "        mapping=aes(gemetry='geometry', color='LAYER')\n",
    "    )\n",
    "\n",
    ")\n",
    "precip_station_map2.draw()\n",
    "precip_station_map2.save('map2.png')"
   ]
  },
  {
   "cell_type": "code",
   "execution_count": 105,
   "metadata": {},
   "outputs": [
    {
     "data": {
      "image/png": "[encoded data removed]",
      "text/plain": [
       "<Figure size 640x480 with 1 Axes>"
      ]
     },
     "execution_count": 105,
     "metadata": {},
     "output_type": "execute_result"
    }
   ],
   "source": [
    "# Precipitation map\n",
    "precip_station_map = (\n",
    "    ggplot(precip_stations_clipped)\n",
    "    + geom_map(\n",
    "        mapping=aes(geometry='geometry'),\n",
    "        color = 'red'\n",
    "    )\n",
    "    + geom_map(\n",
    "        data=upper_hudson_basin_10km_buffer,\n",
    "        mapping=aes(geometry='geometry', color='\"10km buffer\"'),\n",
    "        inherit_aes=False,\n",
    "        fill=None\n",
    "    )\n",
    "    + geom_map(\n",
    "        data=upper_hudson_basin_30km_buffer,\n",
    "        mapping=aes(geometry='geometry', color='\"30km buffer\"'),\n",
    "        inherit_aes=False,\n",
    "        fill=None\n",
    "    )\n",
    "    + geom_map(\n",
    "        data=upper_hudson_basin.to_crs(precip_stations_clipped.crs),\n",
    "        mapping=aes(geometry='geometry', color='\"Upper Hudson Basin\"'),\n",
    "        inherit_aes=False,\n",
    "        fill=None\n",
    "    )\n",
    "    + labs(title='Precipitation Map')\n",
    "    + scale_color_manual(\n",
    "        name='Buffer Distance:',\n",
    "        values={\n",
    "            '10km buffer': 'royalblue',\n",
    "            '30km buffer': 'orange',\n",
    "            'Upper Hudson Basin': 'black'\n",
    "            }\n",
    "    )\n",
    "    + theme_minimal()\n",
    "    + theme(\n",
    "        legend_title=element_text(size=10),\n",
    "        legend_text=element_text(size=8),\n",
    "        legend_position='bottom'\n",
    "    )\n",
    ")\n",
    "precip_station_map.save('prec_map1.png')\n",
    "precip_station_map.draw()\n",
    "\n"
   ]
  },
  {
   "cell_type": "code",
   "execution_count": 24,
   "metadata": {},
   "outputs": [
    {
     "data": {
      "text/plain": [
       "'1079 m.'"
      ]
     },
     "execution_count": 24,
     "metadata": {},
     "output_type": "execute_result"
    }
   ],
   "source": [
    "from bs4 import BeautifulSoup\n",
    "\n",
    "html_code = '''\\n    \\n    <table>\\n    <tr><td>ID: COOP:267369</td></tr>\\n    <tr><td>COUNTRY: United States</td></tr>\\n    <tr><td>LATITUDE: 35.4661</td></tr>\\n    <tr><td>LONGITUDE: -114.92161</td></tr>\\n    <tr><td>ELEVATION: 1079 m.</td></tr>\\n    <tr><td></td></tr>\\n    </table>\\n    <table>\\n    <tr><td><form action=\"https://www.ncdc.noaa.gov/cdo-web/mapReview\" method=\"post\">\\n        <input type=\"hidden\" name=\"_dataSet\" value=\"PRECIP_15\"/>\\n        <input type=\"hidden\" name=\"_stationId\" value=\"COOP:267369\"/>\\n        <input type=\"submit\" value=\"Access Station Data\"/>\\n    </form></td></tr>\\n    </table> \\n  '''\n",
    "\n",
    "soup = BeautifulSoup(html_code, 'html.parser')\n",
    "\n",
    "id_value = soup.find('td').text.split(': ')[1]\n",
    "elevation = soup.find_all('td')[4].text.split(': ')[1]\n",
    "\n",
    "soup.find_all('td')\n",
    "elevation"
   ]
  },
  {
   "cell_type": "code",
   "execution_count": 8,
   "metadata": {},
   "outputs": [
    {
     "data": {
      "text/html": [
       "<div>\n",
       "<style scoped>\n",
       "    .dataframe tbody tr th:only-of-type {\n",
       "        vertical-align: middle;\n",
       "    }\n",
       "\n",
       "    .dataframe tbody tr th {\n",
       "        vertical-align: top;\n",
       "    }\n",
       "\n",
       "    .dataframe thead th {\n",
       "        text-align: right;\n",
       "    }\n",
       "</style>\n",
       "<table border=\"1\" class=\"dataframe\">\n",
       "  <thead>\n",
       "    <tr style=\"text-align: right;\">\n",
       "      <th></th>\n",
       "      <th>id</th>\n",
       "      <th>Name</th>\n",
       "      <th>description</th>\n",
       "      <th>timestamp</th>\n",
       "      <th>begin</th>\n",
       "      <th>end</th>\n",
       "      <th>altitudeMode</th>\n",
       "      <th>tessellate</th>\n",
       "      <th>extrude</th>\n",
       "      <th>visibility</th>\n",
       "      <th>drawOrder</th>\n",
       "      <th>icon</th>\n",
       "      <th>geometry</th>\n",
       "    </tr>\n",
       "  </thead>\n",
       "  <tbody>\n",
       "    <tr>\n",
       "      <th>0</th>\n",
       "      <td>1</td>\n",
       "      <td>UTICA 7 SSW, NY US</td>\n",
       "      <td>\\n    \\n    &lt;table&gt;\\n    &lt;tr&gt;&lt;td&gt;ID: COOP:3087...</td>\n",
       "      <td>NaT</td>\n",
       "      <td>NaT</td>\n",
       "      <td>NaT</td>\n",
       "      <td>None</td>\n",
       "      <td>-1</td>\n",
       "      <td>0</td>\n",
       "      <td>-1</td>\n",
       "      <td>NaN</td>\n",
       "      <td>None</td>\n",
       "      <td>POINT Z (-75.26667 43 0)</td>\n",
       "    </tr>\n",
       "    <tr>\n",
       "      <th>1</th>\n",
       "      <td>2</td>\n",
       "      <td>CHARLOTTEBURG RESERVOIR, NJ US</td>\n",
       "      <td>\\n    \\n    &lt;table&gt;\\n    &lt;tr&gt;&lt;td&gt;ID: COOP:2815...</td>\n",
       "      <td>NaT</td>\n",
       "      <td>NaT</td>\n",
       "      <td>NaT</td>\n",
       "      <td>None</td>\n",
       "      <td>-1</td>\n",
       "      <td>0</td>\n",
       "      <td>-1</td>\n",
       "      <td>NaN</td>\n",
       "      <td>None</td>\n",
       "      <td>POINT Z (-74.42477 41.02996 0)</td>\n",
       "    </tr>\n",
       "    <tr>\n",
       "      <th>2</th>\n",
       "      <td>3</td>\n",
       "      <td>WANAQUE RAYMOND DAM, NJ US</td>\n",
       "      <td>\\n    \\n    &lt;table&gt;\\n    &lt;tr&gt;&lt;td&gt;ID: COOP:2891...</td>\n",
       "      <td>NaT</td>\n",
       "      <td>NaT</td>\n",
       "      <td>NaT</td>\n",
       "      <td>None</td>\n",
       "      <td>-1</td>\n",
       "      <td>0</td>\n",
       "      <td>-1</td>\n",
       "      <td>NaN</td>\n",
       "      <td>None</td>\n",
       "      <td>POINT Z (-74.29718 41.04156 0)</td>\n",
       "    </tr>\n",
       "    <tr>\n",
       "      <th>3</th>\n",
       "      <td>4</td>\n",
       "      <td>SEARCHLIGHT, NV US</td>\n",
       "      <td>\\n    \\n    &lt;table&gt;\\n    &lt;tr&gt;&lt;td&gt;ID: COOP:2673...</td>\n",
       "      <td>NaT</td>\n",
       "      <td>NaT</td>\n",
       "      <td>NaT</td>\n",
       "      <td>None</td>\n",
       "      <td>-1</td>\n",
       "      <td>0</td>\n",
       "      <td>-1</td>\n",
       "      <td>NaN</td>\n",
       "      <td>None</td>\n",
       "      <td>POINT Z (-114.92161 35.4661 0)</td>\n",
       "    </tr>\n",
       "    <tr>\n",
       "      <th>4</th>\n",
       "      <td>5</td>\n",
       "      <td>OVERTON, NV US</td>\n",
       "      <td>\\n    \\n    &lt;table&gt;\\n    &lt;tr&gt;&lt;td&gt;ID: COOP:2658...</td>\n",
       "      <td>NaT</td>\n",
       "      <td>NaT</td>\n",
       "      <td>NaT</td>\n",
       "      <td>None</td>\n",
       "      <td>-1</td>\n",
       "      <td>0</td>\n",
       "      <td>-1</td>\n",
       "      <td>NaN</td>\n",
       "      <td>None</td>\n",
       "      <td>POINT Z (-114.4582 36.55006 0)</td>\n",
       "    </tr>\n",
       "  </tbody>\n",
       "</table>\n",
       "</div>"
      ],
      "text/plain": [
       "  id                            Name  \\\n",
       "0  1              UTICA 7 SSW, NY US   \n",
       "1  2  CHARLOTTEBURG RESERVOIR, NJ US   \n",
       "2  3      WANAQUE RAYMOND DAM, NJ US   \n",
       "3  4              SEARCHLIGHT, NV US   \n",
       "4  5                  OVERTON, NV US   \n",
       "\n",
       "                                         description timestamp begin end  \\\n",
       "0  \\n    \\n    <table>\\n    <tr><td>ID: COOP:3087...       NaT   NaT NaT   \n",
       "1  \\n    \\n    <table>\\n    <tr><td>ID: COOP:2815...       NaT   NaT NaT   \n",
       "2  \\n    \\n    <table>\\n    <tr><td>ID: COOP:2891...       NaT   NaT NaT   \n",
       "3  \\n    \\n    <table>\\n    <tr><td>ID: COOP:2673...       NaT   NaT NaT   \n",
       "4  \\n    \\n    <table>\\n    <tr><td>ID: COOP:2658...       NaT   NaT NaT   \n",
       "\n",
       "  altitudeMode  tessellate  extrude  visibility  drawOrder  icon  \\\n",
       "0         None          -1        0          -1        NaN  None   \n",
       "1         None          -1        0          -1        NaN  None   \n",
       "2         None          -1        0          -1        NaN  None   \n",
       "3         None          -1        0          -1        NaN  None   \n",
       "4         None          -1        0          -1        NaN  None   \n",
       "\n",
       "                         geometry  \n",
       "0        POINT Z (-75.26667 43 0)  \n",
       "1  POINT Z (-74.42477 41.02996 0)  \n",
       "2  POINT Z (-74.29718 41.04156 0)  \n",
       "3  POINT Z (-114.92161 35.4661 0)  \n",
       "4  POINT Z (-114.4582 36.55006 0)  "
      ]
     },
     "execution_count": 8,
     "metadata": {},
     "output_type": "execute_result"
    }
   ],
   "source": [
    "precip_stations.head()"
   ]
  },
  {
   "cell_type": "code",
   "execution_count": 7,
   "metadata": {},
   "outputs": [
    {
     "data": {
      "text/plain": [
       "{'metadata': {'resultset': {'offset': 1, 'count': 2, 'limit': 25}},\n",
       " 'results': [{'uid': 'gov.noaa.ncdc:C00505',\n",
       "   'mindate': '1970-05-12',\n",
       "   'maxdate': '2014-01-01',\n",
       "   'name': 'Precipitation 15 Minute',\n",
       "   'datacoverage': 0.25,\n",
       "   'id': 'PRECIP_15'},\n",
       "  {'uid': 'gov.noaa.ncdc:C00313',\n",
       "   'mindate': '1900-01-01',\n",
       "   'maxdate': '2014-01-01',\n",
       "   'name': 'Precipitation Hourly',\n",
       "   'datacoverage': 1,\n",
       "   'id': 'PRECIP_HLY'}]}"
      ]
     },
     "execution_count": 7,
     "metadata": {},
     "output_type": "execute_result"
    }
   ],
   "source": [
    "base_url = 'https://www.ncei.noaa.gov/cdo-web/api/v2/'\n",
    "headers = {\"Token\":NOAA_API_TOKEN}\n",
    "endpoint = 'datasets'\n",
    "parameters = {'stationid':'COOP:267369'}\n",
    "\n",
    "\n",
    "response = requests.get(url=base_url + endpoint, headers=headers, params=parameters)\n",
    "response.json()\n",
    "\n"
   ]
  },
  {
   "cell_type": "code",
   "execution_count": 8,
   "metadata": {},
   "outputs": [
    {
     "data": {
      "text/plain": [
       "{'metadata': {'resultset': {'offset': 1, 'count': 11, 'limit': 25}},\n",
       " 'results': [{'date': '2012-10-31T23:45:00',\n",
       "   'datatype': 'QGAG',\n",
       "   'station': 'COOP:267369',\n",
       "   'attributes': ',,HT',\n",
       "   'value': 81},\n",
       "  {'date': '2012-11-01T00:00:00',\n",
       "   'datatype': 'QGAG',\n",
       "   'station': 'COOP:267369',\n",
       "   'attributes': ',,HT',\n",
       "   'value': 81},\n",
       "  {'date': '2012-11-01T00:15:00',\n",
       "   'datatype': 'QGAG',\n",
       "   'station': 'COOP:267369',\n",
       "   'attributes': 'g,,HT',\n",
       "   'value': 0},\n",
       "  {'date': '2012-11-01T00:15:00',\n",
       "   'datatype': 'QPCP',\n",
       "   'station': 'COOP:267369',\n",
       "   'attributes': 'g,,HT',\n",
       "   'value': 0},\n",
       "  {'date': '2012-11-30T23:45:00',\n",
       "   'datatype': 'QGAG',\n",
       "   'station': 'COOP:267369',\n",
       "   'attributes': ',,HT',\n",
       "   'value': 81},\n",
       "  {'date': '2012-12-01T00:00:00',\n",
       "   'datatype': 'QGAG',\n",
       "   'station': 'COOP:267369',\n",
       "   'attributes': ',,HT',\n",
       "   'value': 81},\n",
       "  {'date': '2012-12-01T00:15:00',\n",
       "   'datatype': 'QGAG',\n",
       "   'station': 'COOP:267369',\n",
       "   'attributes': 'N,,HT',\n",
       "   'value': 81},\n",
       "  {'date': '2012-12-01T00:15:00',\n",
       "   'datatype': 'QPCP',\n",
       "   'station': 'COOP:267369',\n",
       "   'attributes': 'g,,HT',\n",
       "   'value': 0},\n",
       "  {'date': '2012-12-05T07:15:00',\n",
       "   'datatype': 'QGAG',\n",
       "   'station': 'COOP:267369',\n",
       "   'attributes': ',,HT',\n",
       "   'value': 81},\n",
       "  {'date': '2012-12-05T07:30:00',\n",
       "   'datatype': 'QGAG',\n",
       "   'station': 'COOP:267369',\n",
       "   'attributes': '[,,HT',\n",
       "   'value': 99999},\n",
       "  {'date': '2012-12-05T07:30:00',\n",
       "   'datatype': 'QPCP',\n",
       "   'station': 'COOP:267369',\n",
       "   'attributes': '[,,HT',\n",
       "   'value': 99999}]}"
      ]
     },
     "execution_count": 8,
     "metadata": {},
     "output_type": "execute_result"
    }
   ],
   "source": [
    "parameters2 = {'stationid':'COOP:267369',\n",
    "               'datasetid':'PRECIP_15',\n",
    "               'startdate':'2012-10-31',\n",
    "               'enddate':'2012-12-31'}\n",
    "response2 = requests.get(url=base_url + 'data', headers=headers, params=parameters2)\n",
    "response2.json()"
   ]
  },
  {
   "cell_type": "code",
   "execution_count": 26,
   "metadata": {},
   "outputs": [
    {
     "data": {
      "text/plain": [
       "{}"
      ]
     },
     "execution_count": 26,
     "metadata": {},
     "output_type": "execute_result"
    }
   ],
   "source": [
    "response1.json()"
   ]
  },
  {
   "cell_type": "markdown",
   "metadata": {},
   "source": [
    "#### 1.2.2. Reprojection\n",
    "\n",
    "When working with geospatial data in the Upper Hudson River Basin, selecting an appropriate map projection is essential to ensure the accuracy of spatial attribute calculations, such as area and perimeter. For this study, the **NAD83 datum** has been chosen as it is widely used for regional geospatial analysis within the United States. Specifically, we will utilize the **NAD83 / UTM Zone 18N (EPSG:26918)** projection, which is well-suited for the geographic extent of the Hudson River Basin.\n",
    "\n",
    "The UTM Zone 18N projection minimizes distortions in distance and area measurements by dividing the Earth into zones optimized for small regions. This makes it ideal for hydrological studies and sub-basin analyses, where precision is critical. The projection's use of meters as the measurement unit simplifies calculations of spatial attributes, ensuring consistency and ease of interpretation.\n",
    "\n",
    "For larger-scale or cross-basin analyses, equal-area projections such as **Albers Equal Area (EPSG:5070)** or **Lambert Conformal Conic (EPSG:102009)** can be considered. However, for this focused study on sub-basins within the Upper Hudson River region, the selected UTM projection provides the most practical and accurate framework.\n",
    "\n",
    "This notebook demonstrates the workflow of analyzing geospatial data with Python, starting from data preprocessing, reprojecting datasets, and extracting key attributes, all while leveraging the NAD83 datum for spatial accuracy."
   ]
  },
  {
   "cell_type": "code",
   "execution_count": 27,
   "metadata": {},
   "outputs": [],
   "source": [
    "# Filter UTM bounds to be within the bounds of the upper hudson basin\n",
    "upper_hudson_basin_bounds = list(upper_hudson_basin.total_bounds)\n",
    "\n",
    "utm_bounds = world_utm_zones.bounds\n",
    "\n",
    "utm_intersecting_bounds = (\n",
    "    (utm_bounds['minx'] < upper_hudson_basin_bounds[2]) &  # UTM left < Basin right\n",
    "    (utm_bounds['maxx'] > upper_hudson_basin_bounds[0]) &  # UTM right > Basin left\n",
    "    (utm_bounds['miny'] < upper_hudson_basin_bounds[3]) &  # UTM bottom < Basin top\n",
    "    (utm_bounds['maxy'] > upper_hudson_basin_bounds[1])    # UTM top > Basin bottom\n",
    ")\n",
    "world_utm_zones_filtered = world_utm_zones[utm_intersecting_bounds]"
   ]
  },
  {
   "cell_type": "code",
   "execution_count": 51,
   "metadata": {},
   "outputs": [
    {
     "data": {
      "image/png": "[encoded data removed]"
     },
     "metadata": {
      "image/png": {
       "height": 480,
       "width": 640
      }
     },
     "output_type": "display_data"
    }
   ],
   "source": [
    "world_utm_zones_filtered['lon'] = world_utm_zones_filtered.centroid.x\n",
    "world_utm_zones_filtered['lat'] = world_utm_zones_filtered.centroid.y\n",
    "\n",
    "world_utm_zones_filtered['ZONE_str'] = 'Zone: ' + world_utm_zones_filtered['ZONE'].astype(str)+'N'\n",
    "utm_zones_map = (\n",
    "    ggplot(upper_hudson_basin)\n",
    "        + geom_map(\n",
    "            mapping=aes(geometry=\"geometry\"),\n",
    "            inherit_aes=True, \n",
    "            color = 'royalblue',\n",
    "            fill=None\n",
    "        )\n",
    "         + geom_text(\n",
    "            mapping=aes(x=\"lon\", y=\"lat\", label=\"name\"),\n",
    "            size=6,\n",
    "            color=\"black\"\n",
    "        )\n",
    "        + geom_map(\n",
    "            mapping=aes(geometry=\"geometry\"),\n",
    "            data=world_utm_zones_filtered,\n",
    "            inherit_aes=False,\n",
    "            color=\"black\",\n",
    "            size=0.25,\n",
    "            fill = None\n",
    "        )\n",
    "        + geom_text(\n",
    "            mapping=aes(x=\"lon\", y=\"lat\", label=\"ZONE_str\"),\n",
    "            size=12,\n",
    "            color=\"black\",\n",
    "            data = world_utm_zones_filtered,\n",
    "            inherit_aes=False\n",
    "        )\n",
    "        + coord_fixed()\n",
    "        + theme_minimal()\n",
    "        + theme(legend_position=\"none\", panel_grid_major=None, panel_grid_minor=None)\n",
    "        + labs(title=\"UTM Zones in the Study Region\", x=\"Longitude\", y=\"Latitude\")\n",
    "    \n",
    ")\n",
    "utm_zones_map\n",
    "                 "
   ]
  },
  {
   "cell_type": "code",
   "execution_count": 29,
   "metadata": {},
   "outputs": [],
   "source": [
    "epsg = 26918 # UTM Zone 18N"
   ]
  },
  {
   "cell_type": "code",
   "execution_count": 30,
   "metadata": {},
   "outputs": [
    {
     "name": "stdout",
     "output_type": "stream",
     "text": [
      "No invalid geometry for us_state\n",
      "No invalid geometry for us_county\n"
     ]
    }
   ],
   "source": [
    "# us_state\n",
    "if us_state[~us_state.is_valid].empty:\n",
    "    print('No invalid geometry for us_state')\n",
    "else:\n",
    "    print('The following geomtries from us_state are invalid')\n",
    "    us_state[~us_state.is_valid]\n",
    "\n",
    "# us_county\n",
    "if us_county[~us_county.is_valid].empty:\n",
    "    print('No invalid geometry for us_county')\n",
    "else:\n",
    "    print('The following geomtries from us_county are invalid')\n",
    "    us_county[~us_county.is_valid]"
   ]
  },
  {
   "cell_type": "code",
   "execution_count": 31,
   "metadata": {},
   "outputs": [
    {
     "data": {
      "text/html": [
       "<div>\n",
       "<style scoped>\n",
       "    .dataframe tbody tr th:only-of-type {\n",
       "        vertical-align: middle;\n",
       "    }\n",
       "\n",
       "    .dataframe tbody tr th {\n",
       "        vertical-align: top;\n",
       "    }\n",
       "\n",
       "    .dataframe thead th {\n",
       "        text-align: right;\n",
       "    }\n",
       "</style>\n",
       "<table border=\"1\" class=\"dataframe\">\n",
       "  <thead>\n",
       "    <tr style=\"text-align: right;\">\n",
       "      <th></th>\n",
       "      <th>REGION</th>\n",
       "      <th>DIVISION</th>\n",
       "      <th>STATEFP</th>\n",
       "      <th>STATENS</th>\n",
       "      <th>GEOID</th>\n",
       "      <th>GEOIDFQ</th>\n",
       "      <th>STUSPS</th>\n",
       "      <th>NAME</th>\n",
       "      <th>LSAD</th>\n",
       "      <th>MTFCC</th>\n",
       "      <th>FUNCSTAT</th>\n",
       "      <th>ALAND</th>\n",
       "      <th>AWATER</th>\n",
       "      <th>INTPTLAT</th>\n",
       "      <th>INTPTLON</th>\n",
       "      <th>geometry</th>\n",
       "    </tr>\n",
       "  </thead>\n",
       "  <tbody>\n",
       "  </tbody>\n",
       "</table>\n",
       "</div>"
      ],
      "text/plain": [
       "Empty GeoDataFrame\n",
       "Columns: [REGION, DIVISION, STATEFP, STATENS, GEOID, GEOIDFQ, STUSPS, NAME, LSAD, MTFCC, FUNCSTAT, ALAND, AWATER, INTPTLAT, INTPTLON, geometry]\n",
       "Index: []"
      ]
     },
     "execution_count": 31,
     "metadata": {},
     "output_type": "execute_result"
    }
   ],
   "source": [
    "us_state[~us_state.is_valid]"
   ]
  }
 ],
 "metadata": {
  "kernelspec": {
   "display_name": "venv",
   "language": "python",
   "name": "python3"
  },
  "language_info": {
   "codemirror_mode": {
    "name": "ipython",
    "version": 3
   },
   "file_extension": ".py",
   "mimetype": "text/x-python",
   "name": "python",
   "nbconvert_exporter": "python",
   "pygments_lexer": "ipython3",
   "version": "3.12.4"
  }
 },
 "nbformat": 4,
 "nbformat_minor": 2
}
